{
 "cells": [
  {
   "cell_type": "markdown",
   "id": "d7c6d1c20352aed1",
   "metadata": {},
   "source": [
    "### Task example\n",
    "\n",
    "Given a set of lease documents. We need to automatically extract some information (fields) from each document. Find the best LLM model and strategy.\n",
    "\n",
    "Let's say we need to extract full name and address from each document.\n",
    "\n",
    "Output template for extraction would be:\n",
    "```json\n",
    "{\n",
    "  \"full_name\": \"<landlord full name>\",\n",
    "  \"address\": \"<address of the property>\"\n",
    "}\n",
    "```"
   ]
  },
  {
   "cell_type": "markdown",
   "id": "7c34b3f35e58e0a",
   "metadata": {},
   "source": [
    "### How to solve the problem\n",
    "\n",
    "To find the best model we need some metrics to measure the quality of extraction. Strightworward equality might not work in 100% of use cases. Thus, you can use one of the simplest metric that suit extraction tasks: Levenshtein distance between two strings. To find more metrics check out this [article](https://www.confident-ai.com/blog/llm-evaluation-metrics-everything-you-need-for-llm-evaluation).\n",
    "\n",
    "After we can make multiple runs of extraction using different models/strategies, and compare the total accuracy."
   ]
  },
  {
   "cell_type": "code",
   "execution_count": 2,
   "id": "e7fd19431c3b6a23",
   "metadata": {
    "ExecuteTime": {
     "end_time": "2024-09-09T17:53:55.554839Z",
     "start_time": "2024-09-09T17:53:55.497502Z"
    }
   },
   "outputs": [],
   "source": [
    "from fuzzywuzzy import fuzz\n",
    "from enum import Enum\n",
    "\n",
    "class EqualityPattern(Enum):\n",
    "    good = 'good'\n",
    "    half_credit = 'half-credit'\n",
    "    bed = 'bed'\n",
    "\n",
    "SIMILARITY_THRESHOLD = 90\n",
    "HALF_CREDIT_THRESHOLD = 70\n",
    "\n",
    "def equality_measurement(target_string: str, compared_string: str) -> str:\n",
    "    ratio = fuzz.token_set_ratio(target_string, compared_string)\n",
    "    if ratio > SIMILARITY_THRESHOLD:\n",
    "        return EqualityPattern.good\n",
    "    elif ratio > HALF_CREDIT_THRESHOLD:\n",
    "        return EqualityPattern.half_credit\n",
    "    else:\n",
    "        return EqualityPattern.bed\n",
    "    "
   ]
  },
  {
   "cell_type": "code",
   "execution_count": 1,
   "id": "f3b109cfd7582041",
   "metadata": {
    "ExecuteTime": {
     "end_time": "2024-09-09T14:05:52.347989Z",
     "start_time": "2024-09-09T14:05:52.021481Z"
    }
   },
   "outputs": [],
   "source": [
    "from openpyxl.styles import PatternFill, Font\n",
    "\n",
    "def color_patterns(pattern: str):\n",
    "    if pattern == EqualityPattern.good:\n",
    "        fill = PatternFill(start_color=\"C6EFCE\", end_color=\"C6EFCE\", fill_type=\"solid\")\n",
    "        font = Font(color=\"006100\", size=12)\n",
    "    elif pattern == EqualityPattern.half_credit:\n",
    "        fill = PatternFill(start_color=\"FFEB9C\", end_color=\"FFEB9C\", fill_type=\"solid\")\n",
    "        font = Font(color=\"9C6500\", size=12)\n",
    "    elif pattern == EqualityPattern.bed:\n",
    "        fill = PatternFill(start_color=\"FFC7CE\", end_color=\"FFC7CE\", fill_type=\"solid\")\n",
    "        font = Font(color=\"9C0006\", size=12)\n",
    "    return fill, font"
   ]
  },
  {
   "cell_type": "code",
   "execution_count": 3,
   "id": "564720ff90f8fd2d",
   "metadata": {
    "ExecuteTime": {
     "end_time": "2024-09-09T14:05:54.869014Z",
     "start_time": "2024-09-09T14:05:54.333188Z"
    }
   },
   "outputs": [],
   "source": [
    "# Let's save evaluation of one model/strategy into Excel file for further analysis\n",
    "import pandas as pd\n",
    "from openpyxl.styles import PatternFill\n",
    "\n",
    "# Sample data\n",
    "extraction_df = pd.DataFrame([\n",
    "    {\"name\": \"first\", \"full_name\": \"John Doe\", \"address\": \"123 Elm St\"},\n",
    "    {\"name\": \"second\", \"full_name\": \"Jane Smith\", \"address\": \"456 Oak St\"}\n",
    "])\n",
    "\n",
    "golden_df = pd.DataFrame([\n",
    "    {\"name\": \"first\", \"full_name\": \"John Doe\", \"address\": \"123 Elm St\"},\n",
    "    {\"name\": \"second\", \"full_name\": \"Jane Smith\", \"address\": \"789 Pine St\"}\n",
    "])\n",
    "df = extraction_df\n",
    "\n",
    "with pd.ExcelWriter('output.xlsx', engine='openpyxl') as writer:\n",
    "    sheet_name = 'Sheet1'\n",
    "    df.to_excel(writer, index=False, sheet_name=sheet_name)\n",
    "    workbook = writer.book\n",
    "    sheet = writer.sheets[sheet_name]\n",
    "\n",
    "    # Iterate over the DataFrame and apply the green fill\n",
    "    for row in range(2, len(df) + 2):  # iterate over each document, skipping header (first row)\n",
    "        for col in range(2, len(df.columns) + 1):  # iterate over each extraction field, skipping document name (first column)\n",
    "            cell_value = sheet.cell(row=row, column=col).value\n",
    "            golden_value = golden_df.iloc[row-2, col-1]\n",
    "            equality_pattern = equality_measurement(cell_value, golden_value)\n",
    "            fill, font = color_patterns(equality_pattern)\n",
    "            cell = sheet.cell(row=row, column=col) \n",
    "            cell.fill = fill\n",
    "            cell.font = font"
   ]
  },
  {
   "cell_type": "markdown",
   "id": "ac3e4528dd521ed1",
   "metadata": {},
   "source": [
    "### Output example\n",
    "\n",
    "The code above generates xlsx file, that looks like this inside:\n",
    "\n",
    "![](../images/img.png)\n"
   ]
  },
  {
   "cell_type": "markdown",
   "id": "4c3d3449528b95f8",
   "metadata": {},
   "source": [
    "### Next steps \n",
    "\n",
    "You can evaluate accuracy:\n",
    "- by all cells (reveal overall extraction quality of a model)\n",
    "- by fields (for example, to check if some prompt deceases quality of a certain field extraction)\n",
    "- by documents (for example, to find low-qualitative documents after OCR - Optical character recognition)"
   ]
  }
 ],
 "metadata": {
  "kernelspec": {
   "display_name": "Python 3 (ipykernel)",
   "language": "python",
   "name": "python3"
  },
  "language_info": {
   "codemirror_mode": {
    "name": "ipython",
    "version": 3
   },
   "file_extension": ".py",
   "mimetype": "text/x-python",
   "name": "python",
   "nbconvert_exporter": "python",
   "pygments_lexer": "ipython3",
   "version": "3.11.4"
  }
 },
 "nbformat": 4,
 "nbformat_minor": 5
}
